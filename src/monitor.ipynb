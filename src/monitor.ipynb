{
 "cells": [
  {
   "cell_type": "code",
   "execution_count": 10,
   "metadata": {},
   "outputs": [
    {
     "name": "stdout",
     "output_type": "stream",
     "text": [
      "We have identified a data drift between heart.csv and reference.csv with a 'share_of_drifted_columns' of, 15.00000\n"
     ]
    }
   ],
   "source": [
    "from prefect_email import EmailServerCredentials\n",
    "from prefect_email import email_send_message\n",
    "from prefect import flow, task\n",
    "from evidently import ColumnMapping\n",
    "from evidently.report import Report\n",
    "from evidently.metrics import DatasetDriftMetric\n",
    "import helper as hlp\n",
    "import pandas as pd\n",
    "\n",
    "\n",
    "def evidently_report():\n",
    "    current_data = pd.read_csv('../data/heart.csv')\n",
    "    reference_data = pd.read_csv('../data/reference.csv')\n",
    "    num_features = [\"age\", \"trtbps\", \"chol\", \"thalachh\", \"oldpeak\"]\n",
    "    cat_features = [\"sex\", \"cp\", \"fbs\", \"restecg\", \"exng\", \"slp\", \"caa\", \"thall\", \"output\"]\n",
    "    column_mapping = ColumnMapping(\n",
    "        target= 'output',\n",
    "        prediction=None,\n",
    "        numerical_features=num_features,\n",
    "        categorical_features=cat_features\n",
    "    )\n",
    "    report = Report(metrics=[DatasetDriftMetric()])\n",
    "    report.run(reference_data=reference_data, current_data=current_data, column_mapping=column_mapping)\n",
    "    result = report.as_dict()\n",
    "    share_of_drifted_columns = result['metrics'][0]['result']['share_of_drifted_columns']\n",
    "\n",
    "\n",
    "    return share_of_drifted_columns\n",
    "\n",
    "\n",
    "def send_notification(subject, msg, email_to, email_from):\n",
    "    # Load the credentials block\n",
    "    email_credentials_block = EmailServerCredentials.load(\"gmail\")\n",
    "    \n",
    "    email_send_message(\n",
    "        email_server_credentials=email_credentials_block,\n",
    "        subject=subject,\n",
    "        msg=msg,\n",
    "        email_to=email_to,\n",
    "        email_from=email_from\n",
    "    )\n",
    "\n",
    "\n",
    "\n",
    "\n",
    "share_of_drifted_columns = evidently_report()\n",
    "if share_of_drifted_columns > 0: \n",
    "    # send_notification(\"Data drift detected!\", f\"We have identified a data drift between heart.csv and reference.csv with a 'share_of_drifted_columns' of, {share_of_drifted_columns:.5f}\",\n",
    "    #                     recipient, \"noreply@mlops.com\")\n",
    "    print(f\"We have identified a data drift between heart.csv and reference.csv with a 'share_of_drifted_columns' of, {share_of_drifted_columns:.5f}\")\n"
   ]
  }
 ],
 "metadata": {
  "interpreter": {
   "hash": "27c6cbfe5ac72d1a0dedcc53084dd044b7a2c7798d6b4b987d05804997c2a7cb"
  },
  "kernelspec": {
   "display_name": "Python 3.11.7 ('2024_heart_attack_mlops-oBKwX7U0': pipenv)",
   "language": "python",
   "name": "python3"
  },
  "language_info": {
   "codemirror_mode": {
    "name": "ipython",
    "version": 3
   },
   "file_extension": ".py",
   "mimetype": "text/x-python",
   "name": "python",
   "nbconvert_exporter": "python",
   "pygments_lexer": "ipython3",
   "version": "3.11.7"
  },
  "orig_nbformat": 4
 },
 "nbformat": 4,
 "nbformat_minor": 2
}
